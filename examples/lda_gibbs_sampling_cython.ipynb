{
 "cells": [
  {
   "cell_type": "markdown",
   "metadata": {},
   "source": [
    "# Collapsed Gibbs sampler for Latent Dirichlet Allocation\n",
    "\n",
    "<div style=\"display:none\">\n",
    "  $\n",
    "      \\newcommand{\\dir}{\\mathop{\\rm Dirichlet}\\nolimits}\n",
    "      \\newcommand{\\dis}{\\mathop{\\rm Discrete}\\nolimits}\n",
    "      \\newcommand{\\btheta}{\\mathbf{\\theta}}\n",
    "      \\newcommand{\\norm}[1]{\\left\\| #1 \\right\\|}\n",
    "      \\newcommand{\\p}[1]{p \\left( #1 \\right)}\n",
    "      \\newcommand{\\cp}[2]{p \\left( #1 \\middle| #2 \\right)}\n",
    "      \\newcommand{\\Betaf}{\\mathop{\\rm B}\\nolimits}\n",
    "      \\newcommand{\\Gammaf}{\\mathop{\\Gamma}\\nolimits}\n",
    "  $\n",
    "</div>\n",
    "\n",
    "Here is a full derivation of the collapsed Gibbs sampler for Latent Dirichlet Allocation.  The original ideas come from [this paper](http://psiexp.ss.uci.edu/research/papers/sciencetopics.pdf) by Griffiths and Steyvers (2004).  I found the Wikipedia articles on [Latent Dirichlet Allocation](https://en.wikipedia.org/wiki/Latent_Dirichlet_allocation) and the [Dirichlet-Multinomial distribution](https://en.wikipedia.org/wiki/Dirichlet-multinomial_distribution) very helpful, as well as [these notes](https://people.cs.umass.edu/~wallach/courses/s11/cmpsci791ss/readings/griffiths02gibbs.pdf) by Griffiths.  My Gibbs sampler implementation in Cython closely follows [Allen Riddell](https://ariddell.org/)'s [LDA code](https://github.com/ariddell/lda/).\n",
    "\n",
    "Recall the generative model:\n",
    "\n",
    "$$\\begin{align}\n",
    "\\theta^{(d)} & \\sim \\dir(\\alpha) & \\text{(topic distribution for document $d \\in \\{1, \\ldots, D\\}$)}\\\\\n",
    "\\phi^{(k)} & \\sim \\dir(\\beta) & \\text{(term distribution for topic $k \\in \\{1, \\ldots, K\\}$)}\\\\\n",
    "z_n^{(d)} \\mid \\theta^{(d)} & \\sim \\dis(\\theta^{(d)}) & \\text{(topic of $n$th token of document $d$, $n \\in \\{1, \\ldots, N^{(d)}\\}$)}\\\\\n",
    "w_n^{(d)} \\mid \\phi^{(z_n^{(d)})} & \\sim \\dis(\\phi^{(z_n^{(d)})}) & \\text{(term of $n$th token of document $d$, $n \\in \\{1, \\ldots, N^{(d)}\\}$)}\n",
    "\\end{align}$$\n",
    "\n",
    "where each token can be any one of $V$ terms in our vocabulary.\n",
    "\n",
    "![smoothed_lda](https://upload.wikimedia.org/wikipedia/commons/4/4d/Smoothed_LDA.png)\n",
    "\n",
    "<p style='text-align: center; font-size: 10px;'>\n",
    "\"<a href=\"https://commons.wikimedia.org/wiki/File:Smoothed_LDA.png#/media/File:Smoothed_LDA.png\">Smoothed LDA</a>\" by <a href=\"//commons.wikimedia.org/w/index.php?title=User:Slxu.public&amp;action=edit&amp;redlink=1\" class=\"new\" title=\"User:Slxu.public (page does not exist)\">Slxu.public</a> - <span class=\"int-own-work\" lang=\"en\">Own work</span>. Licensed under <a href=\"http://creativecommons.org/licenses/by-sa/3.0\" title=\"Creative Commons Attribution-Share Alike 3.0\">CC BY-SA 3.0</a> via <a href=\"https://commons.wikimedia.org/wiki/\">Wikimedia Commons</a>.\n",
    "</p>\n",
    "\n",
    "<p style='text-align: center; font-style: italic;'>\n",
    "Plate notation for latent Dirichlet allocation.  Please note that $M$ should be $D$.\n",
    "</p>\n",
    "\n",
    "Therefore, the joint probability distribution can be factorized as follows:\n",
    "\n",
    "$$\\begin{align}\n",
    "\\cp{\\theta, \\phi, z, w}{\\alpha, \\beta}\n",
    "&= \n",
    "\\prod_{k=1}^{K} \\cp{\\phi^{(k)}}{\\beta}\n",
    "\\prod_{d=1}^{D} \\cp{\\theta^{(d)}}{\\alpha}\n",
    "\\prod_{n=1}^{N^{(d)}} \\cp{z_n^{(d)}}{\\theta^{(d)}} \\cp{w_n^{(d)}}{\\phi^{(z_n^{(d)})}}\n",
    "\\\\ &=\n",
    "\\prod_{k=1}^{K} \\frac{\\prod_{v=1}^{V} \\left(\\phi_v^{(k)}\\right)^{\\beta_v-1}}{\\Betaf(\\beta)}\n",
    "\\prod_{d=1}^{D} \\frac{\\prod_{k'=1}^{K} \\left(\\theta_{k'}^{(d)}\\right)^{\\alpha_{k'}-1}}{\\Betaf(\\alpha)}\n",
    "\\prod_{k''=1}^{K} \\left(\\theta_{k''}^{(d)}\\right)^{a_{k''}^{(d)}}\n",
    "\\prod_{v'=1}^{V} \\left(\\phi_{v'}^{(k)}\\right)^{b_{v'}^{(k)}}\n",
    "\\\\ &=\n",
    "\\left( \\prod_{k=1}^{K}\n",
    "\\frac{\\prod_{v=1}^{V} \\left( \\phi_v^{(k)}\\right)^{b_{v}^{(k)}+\\beta_v-1}}{\\Betaf(\\beta)} \\right)\n",
    "\\left( \\prod_{d=1}^{D} \\frac{\\prod_{k'=1}^{K} \\left( \\theta_{k'}^{(d)} \\right)^{a_{k'}^{(d)} + \\alpha_{k'}-1}}{\\Betaf(\\alpha)} \\right)\n",
    "\\\\ &=\n",
    "\\left( \\prod_{k=1}^{K}\n",
    "\\frac{\\Betaf(b^{(k)} + \\beta)}{\\Betaf(\\beta)}\n",
    "\\frac{\\prod_{v=1}^{V} \\left(\\phi_v^{(k)}\\right)^{b_{v}^{(k)}+\\beta_v-1}}{\\Betaf(b^{(k)} + \\beta)} \\right)\n",
    "\\left( \\prod_{d=1}^{D}\n",
    "\\frac{\\Betaf(a^{(d)} + \\alpha)}{\\Betaf(\\alpha)}\n",
    "\\frac{\\prod_{k'=1}^{K}\n",
    "\\left( \\theta_{k'}^{(d)}\\right)^{a_{k'}^{(d)} + \\alpha_{k'}-1}}{\\Betaf(a^{(d)} + \\alpha)} \\right)\n",
    "\\\\ &=\n",
    "\\left( \\prod_{k=1}^{K} \\frac{\\Betaf(b^{(k)} + \\beta)}{\\Betaf(\\beta)} \\cp{\\phi^{(k)}}{b^{(k)} + \\beta} \\right)\n",
    "\\left( \\prod_{d=1}^{D} \\frac{\\Betaf(a^{(d)} + \\alpha)}{\\Betaf(\\alpha)} \\cp{\\theta^{(d)}}{a^{(d)} + \\alpha} \\right)\n",
    "\\end{align}$$\n",
    "\n",
    "where $a_k^{(d)}$ is the number of tokens in document $d$ assigned to topic $k$, $b_v^{(k)}$ is the number of tokens equal to term $v$ and assigned to topic $k$, and $\\Betaf$ is the [multivariate Beta function](https://en.wikipedia.org/wiki/Beta_function#Multivariate_beta_function).\n",
    "\n",
    "In this form, we can easily marginalize out $\\theta$ and $\\phi$ by integrating with respect to each $\\theta^{(d)}$ and $\\phi^{(k)}$ over the standard simplexes $\\Delta^{D-1}$ and $\\Delta^{K-1}$, respectively, where\n",
    "\n",
    "$$\\Delta^{n-1} = \\left\\{x \\in \\mathbb{R}^n \\middle| x \\ge 0, \\sum_{i=1}^n x_i = 1 \\right\\},$$\n",
    "\n",
    "and noting that each integral is equal to 1 since each $p$ is a probability distribution over its respective sample space. Hence,\n",
    "\n",
    "$$\\begin{align}\n",
    "\\cp{z, w}{\\alpha, \\beta} &= \n",
    "\\left( \\prod_{k=1}^{K} \\frac{\\Betaf(b^{(k)} + \\beta)}{\\Betaf(\\beta)} \\int_{\\Delta^{K-1}} \\cp{\\phi^{(k)}}{b^{(k)} + \\beta} d\\phi^{(k)} \\right)\n",
    "\\left( \\prod_{d=1}^{D} \\frac{\\Betaf(a^{(d)} + \\alpha)}{\\Betaf(\\alpha)} \\int_{\\Delta^{D-1}} \\cp{\\theta^{(d)}}{a^{(d)} + \\alpha} d\\theta^{(d)} \\right) \\\\ &=\n",
    "\\prod_{k=1}^{K} \\frac{\\Betaf(b^{(k)} + \\beta)}{\\Betaf(\\beta)}\n",
    "\\prod_{d=1}^{D} \\frac{\\Betaf(a^{(d)} + \\alpha)}{\\Betaf(\\alpha)} \\\\ &=\n",
    "\\cp{w}{z, \\beta} \\cp{z}{\\alpha}.\n",
    "\\end{align}$$\n",
    "\n",
    "Our goal is to calculate the posterior distribution\n",
    "\n",
    "$$\\cp{z}{w, \\alpha, \\beta} = \\frac{\\cp{z, w}{\\alpha, \\beta}}{\\sum_z \\cp{z, w}{\\alpha, \\beta}}$$\n",
    "\n",
    "in order to infer the topic assignment of each token from the given term assignments.  However, calculating this directly is out of the question since the sum in the denominator does not factor into managable parts and involves a (potentially enormous) $K^N$ summands (here $N = \\sum_{d=1}^D N^{(d)}$).\n",
    "\n",
    "We therefore resort to collapsed Gibbs sampling.  The sampler is \"collapsed\" because we marginalized out $\\theta$ and $\\phi$, and will estimate them from the topic assignments $z$:\n",
    "\n",
    "$$\\hat\\theta_k^{(d)} = \\frac{a_k^{(d)} + \\alpha_k}{\\sum_{k'=1}^K \\left(a_{k'}^{(d)} + \\alpha_{k'} \\right)},\n",
    "\\quad\n",
    "\\hat\\phi_v^{(k)} = \\frac{b_v^{(k)} + \\beta_v}{\\sum_{v'=1}^V \\left(b_{v'}^{(k)} + \\beta_{v'} \\right)}.$$\n",
    "\n",
    "These estimates are derived from the predictive distribution for a new term and topic assignment $w_0$ and $z_0$ given the existing word and topic assignments $w$ and $z$, respectively:\n",
    "\n",
    "$$\\begin{align}\n",
    "\\hat\\phi_v^{(k)}\n",
    "&=\n",
    "\\cp{w_0 = v}{w^{(k)}}\n",
    "\\\\ &=\n",
    "\\int_{\\Delta^{K-1}} \\cp{w_0 = v}{\\phi^{(k)}} \\cp{\\phi^{(k)}}{w^{(k)}} d\\phi^{(k)}\n",
    "\\\\ &=\n",
    "\\int_{\\Delta^{K-1}} \\phi_v^{(k)} \\frac{\\prod_{v'=1}^V \\left( \\phi_{v'}^{(k)} \\right)^{b_{v'}^{(k)} + \\beta_{v'} - 1}}{\\Betaf(b^{(k)} + \\beta)} d\\phi^{(k)}\n",
    "\\\\ &=\n",
    "\\int_{\\Delta^{K-1}} \\cp{\\phi^{(k)}}{b^{(k)} + \\beta + e_v}\n",
    "\\frac{ b_v^{(k)} + \\beta_v }{ \\sum_{v'=1}^V \\left( b_{v'}^{(k)} + \\beta_{v'} \\right) } d\\phi^{(k)}\n",
    "\\\\ &=\n",
    "\\frac{ b_v^{(k)} + \\beta_v }{ \\sum_{v'=1}^V \\left( b_{v'}^{(k)} + \\beta_{v'} \\right) }\n",
    "\\end{align}$$\n",
    "\n",
    "where $w^{(k)}$ is the vector of term assignments for tokens assigned to topic $k$, since \n",
    "\n",
    "$$\n",
    "\\cp{\\phi^{(k)}}{w^{(k)}}\n",
    "=\n",
    "\\frac{ \\cp{w^{(k)}}{\\phi^{(k)}} \\p{\\phi^{(k)}} }{ \\p{w^{(k)}} }\n",
    "=\n",
    "\\frac{ \\prod_{v=1}^{V} \\left(\\phi_{v}^{(k)}\\right)^{b_{v}^{(k)}}\n",
    "\\frac{\\prod_{v'=1}^V \\left( \\phi_{v'}^{(k)}\\right)^{\\beta_{v'}-1}}{\\Betaf(\\beta)}\n",
    " }{ \\frac{ \\Betaf(b^{(k)} + \\beta) }{ \\Betaf(\\beta) } }\n",
    "=\n",
    "\\frac{\\prod_{v=1}^V \\left( \\phi_{v}^{(k)} \\right)^{b_{v}^{(k)} + \\beta_{v} - 1}}{\\Betaf(b^{(k)} + \\beta)}\n",
    "$$\n",
    "\n",
    "and \n",
    "\n",
    "$$\\begin{align}\n",
    "\\phi_v^{(k)}\n",
    "\\frac{ \\prod_{v'=1}^V \\left( \\phi_{v'}^{(k)} \\right)^{b_{v'}^{(k)} + \\beta_{v'} - 1} }{ \\Betaf(b^{(k)} + \\beta) }\n",
    "&=\n",
    "\\prod_{v'=1}^V \\left( \\phi_{v'}^{(k)} \\right)^{b_{v'}^{(k)} + \\beta_{v'} - 1 + \\delta_{v, v'}}\n",
    "\\frac{ \\Gammaf \\left[ \\sum_{v'=1}^V \\left( b_{v'}^{(k)} + \\beta_{v'} \\right) \\right] }\n",
    "{ \\prod_{v'=1}^V \\Gammaf \\left( b_{v'}^{(k)} + \\beta_{v'} \\right) }\n",
    "\\\\&=\n",
    "\\prod_{v'=1}^V \\left( \\phi_{v'}^{(k)} \\right)^{b_{v'}^{(k)} + \\beta_{v'} - 1 + \\delta_{v, v'}}\n",
    "\\frac{ \\Gammaf \\left[ \\sum_{v'=1}^V \\left( b_{v'}^{(k)} + \\beta_{v'} + \\delta_{v, v'} \\right) \\right] }\n",
    "{ \\prod_{v'=1}^V \\Gammaf \\left( b_{v'}^{(k)} + \\beta_{v'} + \\delta_{v, v'} \\right) }\n",
    "\\frac{ b_v^{(k)} + \\beta_v }{ \\sum_{v'=1}^V \\left( b_{v'}^{(k)} + \\beta_{v'} \\right) }\n",
    "\\\\&=\n",
    "\\frac{ \\prod_{v'=1}^V \\left( \\phi_{v'}^{(k)} \\right)^{b_{v'}^{(k)} + \\beta_{v'} - 1 + \\delta_{v, v'}} }\n",
    "{ \\Betaf \\left( b^{(k)} + \\beta + e_v \\right) }\n",
    "\\frac{ b_v^{(k)} + \\beta_v }{ \\sum_{v'=1}^V \\left( b_{v'}^{(k)} + \\beta_{v'} \\right) }\n",
    "\\\\&=\n",
    "\\cp{\\phi^{(k)}}{b^{(k)} + \\beta + e_v}\n",
    "\\frac{ b_v^{(k)} + \\beta_v }{ \\sum_{v'=1}^V \\left( b_{v'}^{(k)} + \\beta_{v'} \\right) }\n",
    "\\end{align}$$\n",
    "\n",
    "where $\\delta_{v, v'}$ is the [Kronecker delta function](https://en.wikipedia.org/wiki/Kronecker_delta), $e_v$ is the vector of length $V$ whose $v'$th entry is $\\delta_{v, v'}$, and we used the fact that $\\Gammaf(x) = \\Gammaf(x+1) / x$.  Similarly,\n",
    "\n",
    "$$\\begin{align}\n",
    "\\hat\\theta_k^{(d)}\n",
    "&=\n",
    "\\cp{z_0 = k}{z^{(d)}}\n",
    "\\\\ &=\n",
    "\\int_{\\Delta^{N-1}} \\cp{z_0 = k}{\\theta^{(d)}} \\cp{\\theta^{(d)}}{z^{(d)}} d\\theta^{(d)}\n",
    "\\\\ &=\n",
    "\\int_{\\Delta^{N-1}} \\theta_k^{(d)} \\frac{\\prod_{k'=1}^K \\left( \\theta_{k'}^{(d)} \\right)^{a_{k'}^{(d)} + \\alpha_{k'} - 1}}{\\Betaf(a^{(d)} + \\alpha)} d\\theta^{(d)}\n",
    "\\\\ &=\n",
    "\\int_{\\Delta^{N-1}} \\cp{\\theta^{(d)}}{a^{(d)} + \\alpha + e_k}\n",
    "\\frac{a_k^{(d)} + \\alpha_k}{\\sum_{k'=1}^K \\left(a_{k'}^{(d)} + \\alpha_{k'} \\right)} d\\theta^{(d)}\n",
    "\\\\ &=\n",
    "\\frac{a_k^{(d)} + \\alpha_k}{\\sum_{k'=1}^K \\left(a_{k'}^{(d)} + \\alpha_{k'} \\right)}\n",
    "\\end{align}$$\n",
    "\n",
    "where $z^{(d)}$ is the vector of topic assignments for document $d$ and $e_k$ is the vector of length $K$ whose $k'$th entry is $\\delta_{k, k'}$.\n",
    "\n",
    "Gibbs sampling requires us to compute the full conditionals for each $z_n^{(d)}$, i.e. we need to calculate, for all $n$, $d$ and $k$,\n",
    "\n",
    "$$\\cp{z_n^{(d)} = k}{z \\setminus z_n^{(d)}, w, \\alpha, \\beta} =\n",
    "\\frac{\\cp{z_n^{(d)} = k, z \\setminus z_n^{(d)}, w}{\\alpha, \\beta}}{\\cp{z \\setminus z_n^{(d)}, w}{\\alpha, \\beta}} \\propto \\cp{z_n^{(d)} = k, z \\setminus z_n^{(d)}, w}{\\alpha, \\beta}\n",
    "\\propto \\prod_{k'=1}^{K} \\Betaf(b^{(k')} + \\beta) \\prod_{d'=1}^{D}\\Betaf(a^{(d')} + \\alpha).$$\n",
    "\n",
    "Here $z \\setminus z_n^{(d)}$ means the vector $z$ with the entry $z_n^{(d)}$ removed.  We will use this \"set-minus\" notation with other variables in our model to likewise denote the same variable with the indicated entry removed.  In each step of the above equation where the proportional symbol $\\propto$ is used, I have dropped terms that do not contribute to the sampling variation of $z_n^{(d)}$, i.e., they do not vary with $k$ for fixed values of $n$ and $d$.\n",
    "\n",
    "Let's first consider $\\prod_{k'=1}^{K} \\Betaf(b^{(k')} + \\beta)$:\n",
    "\n",
    "$$\\begin{align}\n",
    "\\prod_{k'=1}^{K} \\Betaf(b^{(k')} + \\beta) &=\n",
    "\\left( \\prod_{k'=1, k' \\neq k}^{K} \\Betaf(b^{(k')} + \\beta) \\right) \\Betaf(b^{(k)} + \\beta) \\\\ &=\n",
    "\\left( \\prod_{k'=1, k' \\neq k}^{K} \\Betaf(b^{(k')} + \\beta) \\right) \\frac{\\prod_{v=1}^{V} \\Gammaf \\left(b_v^{(k)} + \\beta_v\\right)}\n",
    "{\\Gammaf \\left[ \\sum_{v=1}^V \\left(b_v^{(k)} + \\beta_v \\right)\\right]} \\\\ &=\n",
    "\\left( \\prod_{k'=1, k' \\neq k}^{K} \\Betaf(b^{(k')} + \\beta) \\right)\n",
    "\\frac{\\prod_{v=1, v \\neq w_n^{(d)}}^{V} \\Gammaf \\left(b_v^{(k)} + \\beta_v\\right)}\n",
    "{\\Gammaf \\left[ \\sum_{v=1}^V \\left(b_v^{(k)} + \\beta_v \\right)\\right]}\n",
    "\\Gammaf \\left(b_{w_n^{(d)}}^{(k)} + \\beta_{w_n^{(d)}}\\right) \\\\ &=\n",
    "\\left( \\prod_{k'=1, k' \\neq k}^{K} \\Betaf(b^{(k')} \\setminus z_n^{(d)} + \\beta) \\right)\n",
    "\\frac{\\prod_{v=1, v \\neq w_n^{(d)}}^{V} \\Gammaf \\left(b_v^{(k)} \\setminus z_n^{(d)} + \\beta_v\\right)}\n",
    "{\\Gammaf \\left[ \\sum_{v=1}^V \\left( b_v^{(k)} \\setminus z_n^{(d)} + \\beta_v\\right) + 1\\right]}\n",
    "\\Gammaf \\left(b_{w_n^{(d)}}^{(k)} \\setminus z_n^{(d)} + \\beta_{w_n^{(d)}} + 1\\right) \\\\ &=\n",
    "\\left( \\prod_{k'=1, k' \\neq k}^{K} \\Betaf(b^{(k')} \\setminus z_n^{(d)} + \\beta) \\right)\n",
    "\\frac{\\prod_{v=1, v \\neq w_n^{(d)}}^{V} \\Gammaf \\left(b_v^{(k)} \\setminus z_n^{(d)} + \\beta_v\\right)}\n",
    "{\\Gammaf \\left[ \\sum_{v=1}^V \\left( b_v^{(k)} \\setminus z_n^{(d)} + \\beta_v\\right) \\right] \\sum_{v=1}^V \\left( b_v^{(k)} \\setminus z_n^{(d)} + \\beta_v\\right)}\n",
    "\\Gammaf \\left(b_{w_n^{(d)}}^{(k)} \\setminus z_n^{(d)} + \\beta_{w_n^{(d)}}\\right) \\left(b_{w_n^{(d)}}^{(k)} \\setminus z_n^{(d)} + \\beta_{w_n^{(d)}} \\right) \\\\ &=\n",
    "\\left( \\prod_{k'=1, k' \\neq k}^{K} \\Betaf(b^{(k')} \\setminus z_n^{(d)} + \\beta) \\right)\n",
    "\\frac{\\prod_{v=1}^{V} \\Gammaf \\left(b_v^{(k)} \\setminus z_n^{(d)} + \\beta_v\\right)}\n",
    "{\\Gammaf \\left[ \\sum_{v=1}^V \\left( b_v^{(k)} \\setminus z_n^{(d)} + \\beta_v\\right) \\right]}\n",
    "\\frac{b_{w_n^{(d)}}^{(k)} \\setminus z_n^{(d)} + \\beta_{w_n^{(d)}}}{ \\sum_{v=1}^V \\left( b_v^{(k)} \\setminus z_n^{(d)} + \\beta_v\\right)} \\\\ &=\n",
    "\\left( \\prod_{k'=1, k' \\neq k}^{K} \\Betaf(b^{(k')} \\setminus z_n^{(d)} + \\beta) \\right) \\Betaf(b^{(k)} \\setminus z_n^{(d)} + \\beta)\n",
    "\\frac{b_{w_n^{(d)}}^{(k)} \\setminus z_n^{(d)} + \\beta_{w_n^{(d)}}}{ \\sum_{v=1}^V \\left( b_v^{(k)} \\setminus z_n^{(d)} + \\beta_v\\right)} \\\\ &=\n",
    "\\left( \\prod_{k'=1}^{K} \\Betaf(b^{(k')} \\setminus z_n^{(d)} + \\beta) \\right)\n",
    "\\frac{b_{w_n^{(d)}}^{(k)} \\setminus z_n^{(d)} + \\beta_{w_n^{(d)}}}{ \\sum_{v=1}^V \\left( b_v^{(k)} \\setminus z_n^{(d)} + \\beta_v\\right)} \\\\ &\\propto\n",
    "\\frac{b_{w_n^{(d)}}^{(k)} \\setminus z_n^{(d)} + \\beta_{w_n^{(d)}}}{ \\sum_{v=1}^V \\left( b_v^{(k)} \\setminus z_n^{(d)} + \\beta_v\\right)}\n",
    "\\end{align}$$\n",
    "\n",
    "where we have used the fact that $\\Gammaf(x+1) = x\\Gammaf(x)$.  Similarly, one can show that \n",
    "\n",
    "$$\\prod_{d'=1}^{D}\\Betaf(a^{(d')} + \\alpha)\n",
    "\\propto \\frac{a_k^{(d)} \\setminus z_n^{(d)} + \\alpha_k}{ \\sum_{k'=1}^K \\left( a_{k'}^{(d)} \\setminus z_n^{(d)} + \\alpha_{k'}^{(d)} \\right)}\n",
    "\\propto a_k^{(d)} \\setminus z_n^{(d)} + \\alpha_k$$\n",
    "\n",
    "and therefore the full conditional can be written\n",
    "\n",
    "$$\\cp{z_n^{(d)} = k}{z \\setminus z_n^{(d)}, w, \\alpha, \\beta}\n",
    "\\propto \\frac{b_{w_n^{(d)}}^{(k)} \\setminus z_n^{(d)} + \\beta_{w_n^{(d)}}}{ \\sum_{v=1}^V \\left( b_v^{(k)} \\setminus z_n^{(d)} + \\beta_v\\right)} \\left( a_k^{(d)} \\setminus z_n^{(d)} + \\alpha_k \\right)$$\n",
    "\n",
    "which we use in the code implementation below."
   ]
  },
  {
   "cell_type": "markdown",
   "metadata": {},
   "source": [
    "## Graphical test "
   ]
  },
  {
   "cell_type": "code",
   "execution_count": 1,
   "metadata": {
    "collapsed": true
   },
   "outputs": [],
   "source": [
    "from modules.helpers import plot_images\n",
    "from functools import partial\n",
    "\n",
    "imshow = partial(plt.imshow, cmap='gray', interpolation='nearest')"
   ]
  },
  {
   "cell_type": "markdown",
   "metadata": {},
   "source": [
    "### Generate topics \n",
    "\n",
    "We assume a vocabulary of 25 terms, and create ten \"topics\", where each topic assigns exactly 5 consecutive terms equal probability."
   ]
  },
  {
   "cell_type": "code",
   "execution_count": 2,
   "metadata": {
    "collapsed": true
   },
   "outputs": [],
   "source": [
    "V = 25\n",
    "K = 10\n",
    "N = 100\n",
    "D = 1000"
   ]
  },
  {
   "cell_type": "code",
   "execution_count": 3,
   "metadata": {
    "collapsed": false
   },
   "outputs": [
    {
     "data": {
      "text/plain": [
       "<matplotlib.figure.Figure at 0x114f03be0>"
      ]
     },
     "metadata": {},
     "output_type": "display_data"
    },
    {
     "data": {
      "image/png": "[encoded data removed]",
      "text/plain": [
       "<matplotlib.figure.Figure at 0x114f03ba8>"
      ]
     },
     "metadata": {},
     "output_type": "display_data"
    }
   ],
   "source": [
    "topics = []\n",
    "topic_base = np.concatenate((np.ones((1, 5)) * 0.2, np.zeros((4, 5))), axis=0).ravel()\n",
    "for i in range(5):\n",
    "    topics.append(np.roll(topic_base, i * 5))\n",
    "topic_base = np.concatenate((np.ones((5, 1)) * 0.2, np.zeros((5, 4))), axis=1).ravel()\n",
    "for i in range(5):\n",
    "    topics.append(np.roll(topic_base, i))\n",
    "topics = np.array(topics)\n",
    "plt.figure(figsize=(10, 5))\n",
    "plot_images(plt, topics, (5, 5), layout=(2, 5), figsize=(10, 5))"
   ]
  },
  {
   "cell_type": "markdown",
   "metadata": {},
   "source": [
    "### Generate documents from topics\n",
    "\n",
    "We generate 1,000 documents from these 10 topics by sampling 1,000 topic distributions, one for each document, from a Dirichlet distribution with parameter $\\alpha = (1, \\ldots, 1)$."
   ]
  },
  {
   "cell_type": "code",
   "execution_count": 4,
   "metadata": {
    "collapsed": false
   },
   "outputs": [
    {
     "data": {
      "text/plain": [
       "<matplotlib.image.AxesImage at 0x115461198>"
      ]
     },
     "execution_count": 4,
     "metadata": {},
     "output_type": "execute_result"
    },
    {
     "data": {
      "image/png": "[encoded data removed]",
      "text/plain": [
       "<matplotlib.figure.Figure at 0x114f03a58>"
      ]
     },
     "metadata": {},
     "output_type": "display_data"
    }
   ],
   "source": [
    "alpha = np.ones(K)\n",
    "np.random.seed(42)\n",
    "thetas = np.random.dirichlet(alpha, size=D)\n",
    "topic_assignments = np.array([np.random.choice(range(K), size=100, p=theta)\n",
    "                              for theta in thetas])\n",
    "word_assignments = np.array([[np.random.choice(range(V), size=1, p=topics[topic_assignments[d, n]])[0]\n",
    "                              for n in range(N)] for d in range(D)])\n",
    "doc_term_matrix = np.array([np.histogram(word_assignments[d], bins=V, range=(0, V - 1))[0] for d in range(D)])\n",
    "plt.figure(figsize=(10, 10))\n",
    "imshow(doc_term_matrix, aspect='auto')"
   ]
  },
  {
   "cell_type": "markdown",
   "metadata": {},
   "source": [
    "### Estimate parameters\n",
    "\n",
    "Again, much of this comes from [this repository](https://github.com/ariddell/lda/).  However, my class is about twice as fast as the one there."
   ]
  },
  {
   "cell_type": "code",
   "execution_count": 5,
   "metadata": {
    "collapsed": true
   },
   "outputs": [],
   "source": [
    "%load_ext cython"
   ]
  },
  {
   "cell_type": "code",
   "execution_count": 6,
   "metadata": {
    "collapsed": false,
    "scrolled": true
   },
   "outputs": [],
   "source": [
    "%%cython -lgsl\n",
    "#cython: language_level=3\n",
    "#cython: boundscheck=False\n",
    "#cython: wraparound=False\n",
    "#cython: cdivision=True\n",
    "\n",
    "import numbers\n",
    "import numpy as np\n",
    "from numpy cimport (ndarray, float64_t)\n",
    "from cython cimport (boundscheck, wraparound, cdivision)\n",
    "from cython.operator cimport (preincrement, predecrement)\n",
    "from cython_gsl cimport gsl_sf_lngamma as lgamma\n",
    "\n",
    "\n",
    "cdef int searchsorted(double[:] arr, int length, double value):\n",
    "    \"\"\"\n",
    "    Bisection search (c.f. numpy.searchsorted)\n",
    "    Find the index into sorted array `arr` of length `length` such that, if\n",
    "    `value` were inserted before the index, the order of `arr` would be\n",
    "    preserved.\n",
    "    \"\"\"\n",
    "    cdef:\n",
    "        int imin = 0\n",
    "        int imax = length\n",
    "        int imid\n",
    "    while imin < imax:\n",
    "        imid = imin + ((imax - imin) >> 2)\n",
    "        if value > arr[imid]:\n",
    "            imin = imid + 1\n",
    "        else:\n",
    "            imax = imid\n",
    "    return imin\n",
    "\n",
    "\n",
    "cdef double loglikelihood(int[:, :] nzw, int[:, :] ndz,\n",
    "                          int[:] nz, int[:] nd,\n",
    "                          double[:] alpha, double[:] beta,\n",
    "                          double sum_alpha, double sum_beta,\n",
    "                          double lBeta_alpha, double lBeta_beta,\n",
    "                          double lgamma_sum_alpha_nd):\n",
    "    cdef int k, d\n",
    "    cdef int n_docs = ndz.shape[0]\n",
    "    cdef int n_topics = ndz.shape[1]\n",
    "    cdef int n_terms = nzw.shape[1]\n",
    "    cdef double ll = 0\n",
    "    # calculate log p(w|z)\n",
    "    ll += n_topics * lBeta_beta\n",
    "    for k in range(n_topics):\n",
    "        ll -= lgamma(sum_beta + nz[k])\n",
    "        for w in range(n_terms):\n",
    "            ll += lgamma(beta[w] + nzw[k, w])\n",
    "    # calculate log p(z)\n",
    "    ll += n_docs * lBeta_alpha\n",
    "    ll -= lgamma_sum_alpha_nd\n",
    "    for d in range(n_docs):\n",
    "        for k in range(n_topics):\n",
    "            ll += lgamma(alpha[k] + ndz[d, k])\n",
    "    return ll\n",
    "\n",
    "\n",
    "class LDA(object):\n",
    "    \"\"\"\n",
    "    myLDA is my LDA, implemented in Cython!\n",
    "    \n",
    "    Parameters\n",
    "    ----------\n",
    "    n_topics : int\n",
    "        Number of topics\n",
    "\n",
    "    alpha : array-like, shape = (n_topics,)\n",
    "        Dirichlet distribution parameter for each document's topic distributions\n",
    "        \n",
    "    beta : array-like, shape = (n_terms,)\n",
    "        Dirichlet distribution parameter for each topic's term distributions\n",
    "        \n",
    "    n_iter : int, default=500\n",
    "        Number of iterations of Gibbs sampler\n",
    "        \n",
    "    random_state : int, optional\n",
    "        Seed for random number generator\n",
    "    \"\"\"\n",
    "    def __init__(self, int n_topics, double[:] alpha, double[:] beta, int n_iter=500,\n",
    "                 random_state=None):\n",
    "        self.n_topics = n_topics\n",
    "        self.alpha = alpha\n",
    "        self.beta = beta\n",
    "        self.n_iter = n_iter\n",
    "        self.rng = self._check_random_state(random_state)\n",
    "\n",
    "        \n",
    "    def _check_random_state(self, seed):\n",
    "        \"\"\"\n",
    "        Turn seed into a np.random.RandomState instance\n",
    "        If seed is None, return the RandomState singleton used by np.random.\n",
    "        If seed is an int, return a new RandomState instance seeded with seed.\n",
    "        If seed is already a RandomState instance, return it.\n",
    "        Otherwise raise ValueError.\n",
    "        \n",
    "        I copied this straight from here:\n",
    "        https://github.com/scikit-learn/scikit-learn/blob/master/sklearn/utils/validation.py#L530-L545\n",
    "        \"\"\"\n",
    "        if seed is None or seed is np.random:\n",
    "            return np.random.mtrand._rand\n",
    "        if isinstance(seed, (numbers.Integral, np.integer)):\n",
    "            return np.random.RandomState(seed)\n",
    "        if isinstance(seed, np.random.RandomState):\n",
    "            return seed\n",
    "        raise ValueError('%r cannot be used to seed a numpy.random.RandomState'\n",
    "                         ' instance' % seed)\n",
    "\n",
    "\n",
    "    def fit(self, X):\n",
    "        \"\"\"\n",
    "        Perform (collapsed) Gibbs sampling inference.\n",
    "        \n",
    "        Parameters\n",
    "        ----------\n",
    "        X : array-like, shape = (n_docs, n_terms)\n",
    "            The document-term matrix\n",
    "        \"\"\"\n",
    "        self.doc_term_matrix = X\n",
    "        _docs, _terms = np.nonzero(X)\n",
    "        self.n_docs, self.n_terms = X.shape\n",
    "        self.n_tokens = X.sum()\n",
    "        self.loglikelihoods = []\n",
    "        cdef:\n",
    "            int i, j, k, d, w, z, new_z\n",
    "            double p_sum, uval\n",
    "            # creating these local C variables reduces calls to self, and hence the C-API\n",
    "            int n_iter = self.n_iter\n",
    "            int n_tokens = self.n_tokens\n",
    "            int n_topics = self.n_topics\n",
    "            int n_terms = self.n_terms\n",
    "            int n_docs = self.n_docs\n",
    "            double[::1] alpha = np.ascontiguousarray(self.alpha, dtype=np.float64)\n",
    "            double[::1] beta = np.ascontiguousarray(self.beta, dtype=np.float64)\n",
    "            double sum_alpha = np.asarray(self.alpha).sum()\n",
    "            double sum_beta = np.asarray(self.beta).sum()\n",
    "            double lBeta_alpha = 0.\n",
    "            double lBeta_beta = 0.\n",
    "            double lgamma_sum_alpha_nd = 0.\n",
    "            # convenient lookup tables linking tokens to their docs, terms and topics\n",
    "            int[::1] doc_lookup = np.ascontiguousarray(np.repeat(_docs, X[_docs, _terms]), dtype=np.intc)\n",
    "            int[::1] term_lookup = np.ascontiguousarray(np.repeat(_terms, X[_docs, _terms]), dtype=np.intc)\n",
    "            int[::1] topic_lookup = np.ascontiguousarray(self.rng.randint(0, self.n_topics, size=self.n_tokens),\n",
    "                                                         dtype=np.intc)\n",
    "            # number of tokens in document d assigned to topic z, shape = (n_docs, n_topics)\n",
    "            int[:, ::1] ndz = np.zeros((self.n_docs, self.n_topics), dtype=np.intc, order='C')\n",
    "            # number of tokens assigned to topic z equal to term w, shape = (n_topics, n_terms)\n",
    "            int[:, ::1] nzw = np.zeros((self.n_topics, self.n_terms), dtype=np.intc, order='C')\n",
    "            # number of tokens assigned to topic k, shape = (n_topics,)\n",
    "            int[::1] nz = np.zeros(self.n_topics, dtype=np.intc, order='C')\n",
    "            # number of tokens in doc d, shape = (n_docs,)\n",
    "            int[::1] nd = np.zeros(self.n_docs, dtype=np.intc, order='C')\n",
    "            # (weighted) probabilities for the discrete distribution\n",
    "            double[::1] p_cumsum = np.empty(self.n_topics, dtype=np.float64, order='C')\n",
    "            # preallocate uniformly random numbers on the interval [0, 1)\n",
    "            double[::1] urands = self.rng.rand(1024**2 // 8)\n",
    "            int n_urands = urands.shape[0]\n",
    "            int u = 0\n",
    "        # initialize counts\n",
    "        for j in range(n_tokens):\n",
    "            preincrement(ndz[doc_lookup[j], topic_lookup[j]])\n",
    "            preincrement(nzw[topic_lookup[j], term_lookup[j]])\n",
    "            preincrement(nz[topic_lookup[j]])\n",
    "            preincrement(nd[doc_lookup[j]])\n",
    "        # initialize lBeta_alpha\n",
    "        for k in range(n_topics):\n",
    "            lBeta_alpha += lgamma(alpha[k])\n",
    "            lBeta_alpha -= lgamma(sum_alpha)\n",
    "        # initialize lBeta_beta\n",
    "        for w in range(n_terms):\n",
    "            lBeta_beta += lgamma(beta[w])\n",
    "            lBeta_beta -= lgamma(sum_beta)\n",
    "        # initialize lgamma_sum_alpha_nd\n",
    "        for d in range(n_docs):\n",
    "            lgamma_sum_alpha_nd += lgamma(sum_alpha + nd[d])\n",
    "        # iterate\n",
    "        for i in range(n_iter):\n",
    "            for j in range(n_tokens):\n",
    "                d = doc_lookup[j]\n",
    "                w = term_lookup[j]\n",
    "                z = topic_lookup[j]\n",
    "                predecrement(ndz[d, z])\n",
    "                predecrement(nzw[z, w])\n",
    "                predecrement(nz[z])\n",
    "                p_sum = 0.\n",
    "                for k in range(n_topics):\n",
    "                    p_sum += (nzw[k, w] + beta[w]) / (nz[k] + sum_beta) * (ndz[d, k] + alpha[k]) \n",
    "                    p_cumsum[k] = p_sum\n",
    "                preincrement(u)\n",
    "                if u == n_urands:\n",
    "                    u = 0\n",
    "                uval = urands[u] * p_sum\n",
    "                new_z = topic_lookup[j] = searchsorted(p_cumsum, n_topics, uval)\n",
    "                preincrement(ndz[d, new_z])\n",
    "                preincrement(nzw[new_z, w])\n",
    "                preincrement(nz[new_z])\n",
    "            self.loglikelihoods.append(loglikelihood(nzw, ndz, nz, nd,\n",
    "                                                     alpha, beta, sum_alpha, sum_beta,\n",
    "                                                     lBeta_alpha, lBeta_beta, lgamma_sum_alpha_nd))\n",
    "        # populate the topic and word distributions\n",
    "        self.theta = np.asarray(ndz) + np.tile(self.alpha, (self.n_docs, 1))\n",
    "        self.theta = (self.theta.T / self.theta.sum(axis=1)).T\n",
    "        self.phi = np.asarray(nzw) + np.tile(self.beta, (self.n_topics, 1))\n",
    "        self.phi = (self.phi.T / self.phi.sum(axis=1)).T        "
   ]
  },
  {
   "cell_type": "code",
   "execution_count": 7,
   "metadata": {
    "collapsed": false
   },
   "outputs": [],
   "source": [
    "lda = LDA(10, 0.1 * np.ones(K), 0.01 * np.ones(V), 300, random_state=42)"
   ]
  },
  {
   "cell_type": "code",
   "execution_count": 8,
   "metadata": {
    "collapsed": false,
    "scrolled": true
   },
   "outputs": [
    {
     "name": "stdout",
     "output_type": "stream",
     "text": [
      "CPU times: user 3.41 s, sys: 7.09 ms, total: 3.41 s\n",
      "Wall time: 3.41 s\n"
     ]
    }
   ],
   "source": [
    "%%time\n",
    "lda.fit(doc_term_matrix)"
   ]
  },
  {
   "cell_type": "code",
   "execution_count": 9,
   "metadata": {
    "collapsed": false
   },
   "outputs": [
    {
     "data": {
      "image/png": "[encoded data removed]",
      "text/plain": [
       "<matplotlib.figure.Figure at 0x1163ed6a0>"
      ]
     },
     "metadata": {},
     "output_type": "display_data"
    }
   ],
   "source": [
    "plot_images(plt, lda.phi, (5, 5), (2, 5), figsize=(10, 5))"
   ]
  },
  {
   "cell_type": "code",
   "execution_count": 10,
   "metadata": {
    "collapsed": false
   },
   "outputs": [
    {
     "data": {
      "text/plain": [
       "[<matplotlib.lines.Line2D at 0x1151df390>]"
      ]
     },
     "execution_count": 10,
     "metadata": {},
     "output_type": "execute_result"
    },
    {
     "data": {
      "image/png": "[encoded data removed]",
      "text/plain": [
       "<matplotlib.figure.Figure at 0x115165b70>"
      ]
     },
     "metadata": {},
     "output_type": "display_data"
    }
   ],
   "source": [
    "plt.plot(lda.loglikelihoods)"
   ]
  },
  {
   "cell_type": "code",
   "execution_count": null,
   "metadata": {
    "collapsed": true
   },
   "outputs": [],
   "source": []
  }
 ],
 "metadata": {
  "kernelspec": {
   "display_name": "Python 3",
   "language": "python",
   "name": "python3"
  },
  "language_info": {
   "codemirror_mode": {
    "name": "ipython",
    "version": 3
   },
   "file_extension": ".py",
   "mimetype": "text/x-python",
   "name": "python",
   "nbconvert_exporter": "python",
   "pygments_lexer": "ipython3",
   "version": "3.4.3"
  }
 },
 "nbformat": 4,
 "nbformat_minor": 0
}
