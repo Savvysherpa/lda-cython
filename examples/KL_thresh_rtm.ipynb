{
 "cells": [
  {
   "cell_type": "code",
   "execution_count": 1,
   "metadata": {
    "collapsed": true
   },
   "outputs": [],
   "source": [
    "# This notebook is used to decide on a tolerable level of corruptableness.\n",
    "%matplotlib inline\n",
    "\n",
    "import numpy as np\n",
    "from scipy.stats import entropy as KL_divergence\n",
    "import pandas as pd\n",
    "import matplotlib.pyplot as plt\n",
    "\n",
    "from lda_cython.topic_models import RTM\n",
    "from modules.helpers import plot_images"
   ]
  },
  {
   "cell_type": "code",
   "execution_count": 2,
   "metadata": {
    "collapsed": false
   },
   "outputs": [
    {
     "ename": "AttributeError",
     "evalue": "'NoneType' object has no attribute 'getnnz'",
     "output_type": "error",
     "traceback": [
      "\u001b[0;31m---------------------------------------------------------------------------\u001b[0m",
      "\u001b[0;31mAttributeError\u001b[0m                            Traceback (most recent call last)",
      "\u001b[0;32m<ipython-input-2-e654d367102d>\u001b[0m in \u001b[0;36m<module>\u001b[0;34m()\u001b[0m\n\u001b[1;32m     50\u001b[0m \u001b[0mrtm\u001b[0m \u001b[0;34m=\u001b[0m \u001b[0mRTM\u001b[0m\u001b[0;34m(\u001b[0m\u001b[0m_K\u001b[0m\u001b[0;34m,\u001b[0m \u001b[0m_alpha\u001b[0m\u001b[0;34m,\u001b[0m \u001b[0m_beta\u001b[0m\u001b[0;34m,\u001b[0m \u001b[0m_mu\u001b[0m\u001b[0;34m,\u001b[0m \u001b[0m_sigma2\u001b[0m\u001b[0;34m,\u001b[0m \u001b[0m_nu\u001b[0m\u001b[0;34m,\u001b[0m \u001b[0mn_iter\u001b[0m\u001b[0;34m,\u001b[0m \u001b[0mseed\u001b[0m\u001b[0;34m=\u001b[0m\u001b[0;36m42\u001b[0m\u001b[0;34m)\u001b[0m\u001b[0;34m\u001b[0m\u001b[0m\n\u001b[1;32m     51\u001b[0m \u001b[0;34m\u001b[0m\u001b[0m\n\u001b[0;32m---> 52\u001b[0;31m \u001b[0mrtm\u001b[0m\u001b[0;34m.\u001b[0m\u001b[0mfit\u001b[0m\u001b[0;34m(\u001b[0m\u001b[0mdoc_term_matrix\u001b[0m\u001b[0;34m)\u001b[0m\u001b[0;34m\u001b[0m\u001b[0m\n\u001b[0m\u001b[1;32m     53\u001b[0m \u001b[0mresults\u001b[0m \u001b[0;34m=\u001b[0m \u001b[0mgrtm\u001b[0m\u001b[0;34m.\u001b[0m\u001b[0mphi\u001b[0m\u001b[0;34m\u001b[0m\u001b[0m\n",
      "\u001b[0;32m/Users/mattburbidge/github/ss/lda-cython/lda_cython/topic_models.py\u001b[0m in \u001b[0;36mfit\u001b[0;34m(self, X, y)\u001b[0m\n\u001b[1;32m    466\u001b[0m             \u001b[0mself\u001b[0m\u001b[0;34m.\u001b[0m\u001b[0mn_topics\u001b[0m\u001b[0;34m,\u001b[0m \u001b[0mself\u001b[0m\u001b[0;34m.\u001b[0m\u001b[0mn_docs\u001b[0m\u001b[0;34m,\u001b[0m \u001b[0mself\u001b[0m\u001b[0;34m.\u001b[0m\u001b[0mn_terms\u001b[0m\u001b[0;34m,\u001b[0m \u001b[0mself\u001b[0m\u001b[0;34m.\u001b[0m\u001b[0mn_tokens\u001b[0m\u001b[0;34m,\u001b[0m\u001b[0;34m\u001b[0m\u001b[0m\n\u001b[1;32m    467\u001b[0m             \u001b[0mself\u001b[0m\u001b[0;34m.\u001b[0m\u001b[0malpha\u001b[0m\u001b[0;34m,\u001b[0m \u001b[0mself\u001b[0m\u001b[0;34m.\u001b[0m\u001b[0mbeta\u001b[0m\u001b[0;34m,\u001b[0m \u001b[0mself\u001b[0m\u001b[0;34m.\u001b[0m\u001b[0mmu\u001b[0m\u001b[0;34m,\u001b[0m \u001b[0mself\u001b[0m\u001b[0;34m.\u001b[0m\u001b[0msigma2\u001b[0m\u001b[0;34m,\u001b[0m \u001b[0mself\u001b[0m\u001b[0;34m.\u001b[0m\u001b[0mnu\u001b[0m\u001b[0;34m,\u001b[0m\u001b[0;34m\u001b[0m\u001b[0m\n\u001b[0;32m--> 468\u001b[0;31m             doc_lookup, term_lookup, self.adjacency_matrix, self.seed)\n\u001b[0m\u001b[1;32m    469\u001b[0m \u001b[0;34m\u001b[0m\u001b[0m\n\u001b[1;32m    470\u001b[0m \u001b[0;32mclass\u001b[0m \u001b[0mBLHSLDA\u001b[0m\u001b[0;34m(\u001b[0m\u001b[0mTopicModelBase\u001b[0m\u001b[0;34m)\u001b[0m\u001b[0;34m:\u001b[0m\u001b[0;34m\u001b[0m\u001b[0m\n",
      "\u001b[0;32m/Users/mattburbidge/github/ss/lda-cython/lda_cython/_topic_models.pyx\u001b[0m in \u001b[0;36mlda_cython._topic_models.gibbs_sampler_rtm (lda_cython/_topic_models.c:14586)\u001b[0;34m()\u001b[0m\n",
      "\u001b[0;31mAttributeError\u001b[0m: 'NoneType' object has no attribute 'getnnz'"
     ]
    }
   ],
   "source": [
    " # Generate topics\n",
    "# We assume a vocabulary of 'rows'^2 terms, and create 'rows'*2 \"topics\",\n",
    "# where each topic assigns exactly 'rows' consecutive terms equal probability.\n",
    "rows = 3\n",
    "V = rows * rows\n",
    "K = rows * 2\n",
    "N = K * K\n",
    "D = 10000\n",
    "seed = 42\n",
    "topics = []\n",
    "topic_base = np.concatenate((np.ones((1, rows)) * (1/rows),\n",
    "                             np.zeros((rows-1, rows))), axis=0).ravel()\n",
    "for i in range(rows):\n",
    "    topics.append(np.roll(topic_base, i * rows))\n",
    "topic_base = np.concatenate((np.ones((rows, 1)) * (1/rows),\n",
    "                             np.zeros((rows, rows-1))), axis=1).ravel()\n",
    "for i in range(rows):\n",
    "    topics.append(np.roll(topic_base, i))\n",
    "topics = np.array(topics)\n",
    "\n",
    "# Generate documents from topics\n",
    "# We generate D documents from these V topics by sampling D topic\n",
    "# distributions, one for each document, from a Dirichlet distribution with\n",
    "# parameter α=(1,…,1)\n",
    "alpha = np.ones(K)\n",
    "np.random.seed(seed)\n",
    "thetas = np.random.dirichlet(alpha, size=D)\n",
    "topic_assignments = np.array([np.random.choice(range(K), size=N, p=theta)\n",
    "                              for theta in thetas])\n",
    "word_assignments = np.array([[np.random.choice(range(V), size=1,\n",
    "                                               p=topics[topic_assignments[d, n]])[0]\n",
    "                              for n in range(N)] for d in range(D)])\n",
    "doc_term_matrix = np.array([np.histogram(word_assignments[d], bins=V,\n",
    "                                         range=(0, V - 1))[0] for d in range(D)])\n",
    "\n",
    "# choose parameter values\n",
    "mu = 0.\n",
    "sigma2 = 1.\n",
    "nu = 1.\n",
    "np.random.seed(14)\n",
    "\n",
    "# Estimate parameters\n",
    "_K = K\n",
    "_alpha = alpha[:_K]\n",
    "_beta = np.repeat(0.01, V)\n",
    "_mu = mu\n",
    "_sigma2 = sigma2\n",
    "_nu = nu\n",
    "n_iter = 1000\n",
    "rtm = RTM(_K, _alpha, _beta, _mu, _sigma2, _nu, n_iter, seed=42)\n",
    "\n",
    "rtm.fit(doc_term_matrix)\n",
    "results = grtm.phi"
   ]
  },
  {
   "cell_type": "code",
   "execution_count": null,
   "metadata": {
    "collapsed": false
   },
   "outputs": [],
   "source": [
    "for res in results:\n",
    "    minimized_KL = 1\n",
    "    for topic in topics:\n",
    "        KL = KL_divergence(topic, res)\n",
    "        if KL < minimized_KL:\n",
    "            minimized_KL = KL\n",
    "    print(minimized_KL)"
   ]
  },
  {
   "cell_type": "code",
   "execution_count": null,
   "metadata": {
    "collapsed": true
   },
   "outputs": [],
   "source": [
    "plot_images(plt, results, (rows, rows), (2, rows))\n",
    "plt.figure()\n",
    "plt.plot(rtm.loglikelihoods)\n",
    "plt.figure()\n",
    "plt.plot(np.diff(rtm.loglikelihoods)[-100:])"
   ]
  },
  {
   "cell_type": "code",
   "execution_count": null,
   "metadata": {
    "collapsed": true
   },
   "outputs": [],
   "source": []
  }
 ],
 "metadata": {
  "kernelspec": {
   "display_name": "Python 3",
   "language": "python",
   "name": "python3"
  },
  "language_info": {
   "codemirror_mode": {
    "name": "ipython",
    "version": 3
   },
   "file_extension": ".py",
   "mimetype": "text/x-python",
   "name": "python",
   "nbconvert_exporter": "python",
   "pygments_lexer": "ipython3",
   "version": "3.5.1"
  },
  "widgets": {
   "state": {},
   "version": "1.1.2"
  }
 },
 "nbformat": 4,
 "nbformat_minor": 0
}
